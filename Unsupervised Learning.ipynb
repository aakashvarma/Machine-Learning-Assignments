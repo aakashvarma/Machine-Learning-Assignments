{
 "cells": [
  {
   "cell_type": "markdown",
   "metadata": {},
   "source": [
    "# Machine-Learning-Notes\n",
    "\n",
    "# Unsupervised Learning\n",
    "\n",
    "The data has no target attribute\n",
    "\n",
    "## Clustering\n",
    "\n",
    "Clustering is a tehnique for finding similarity groups in a given data.\n",
    "It groups data instances near to each other into one group and the data instances which are far into another groups.\n",
    "Clustering is often called an unsupervised learning taskas no class values denoting an a priori grouping of the data instances are given, which is the case in supervised learning.\n",
    "\n",
    "### Types of clustering:\n",
    "\n",
    "**Hierarchical algorithms:** these find successive clusters using previously established clusters.\n",
    "1. Agglomerative (\"bottom-up\"): Agglomerative algorithms begin with each element as a separate cluster and merge them into successively larger clusters.\n",
    "2. Divisive (\"top-down\"): Divisive algorithms begin with the whole set and proceed to divide it into successively smaller clusters. \n",
    "\n",
    "**Partitional clustering:** Partitional algorithms determine all clusters at once.\n",
    "They include:\n",
    "* K-means and derivatives \n",
    "* Fuzzy c-means clustering\n",
    "* QT clustering algorithm\n"
   ]
  },
  {
   "cell_type": "code",
   "execution_count": 3,
   "metadata": {},
   "outputs": [
    {
     "name": "stdout",
     "output_type": "stream",
     "text": [
      "hello world\n"
     ]
    }
   ],
   "source": []
  },
  {
   "cell_type": "code",
   "execution_count": null,
   "metadata": {},
   "outputs": [],
   "source": []
  }
 ],
 "metadata": {
  "kernelspec": {
   "display_name": "Python 3",
   "language": "python",
   "name": "python3"
  },
  "language_info": {
   "codemirror_mode": {
    "name": "ipython",
    "version": 3
   },
   "file_extension": ".py",
   "mimetype": "text/x-python",
   "name": "python",
   "nbconvert_exporter": "python",
   "pygments_lexer": "ipython3",
   "version": "3.5.2"
  }
 },
 "nbformat": 4,
 "nbformat_minor": 2
}
